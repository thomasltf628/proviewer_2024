{
 "cells": [
  {
   "cell_type": "code",
   "execution_count": 1,
   "metadata": {},
   "outputs": [],
   "source": [
    "import torch"
   ]
  },
  {
   "cell_type": "code",
   "execution_count": 3,
   "metadata": {},
   "outputs": [
    {
     "name": "stderr",
     "output_type": "stream",
     "text": [
      "c:\\Users\\super\\AppData\\Local\\Programs\\Python\\Python311\\Lib\\site-packages\\huggingface_hub\\file_download.py:148: UserWarning: `huggingface_hub` cache-system uses symlinks by default to efficiently store duplicated files but your machine does not support them in C:\\Users\\super\\.cache\\huggingface\\hub\\models--thomas628--my_genuinityClassification_model. Caching files will still work but in a degraded version that might require more space on your disk. This warning can be disabled by setting the `HF_HUB_DISABLE_SYMLINKS_WARNING` environment variable. For more details, see https://huggingface.co/docs/huggingface_hub/how-to-cache#limitations.\n",
      "To support symlinks on Windows, you either need to activate Developer Mode or to run Python as an administrator. In order to see activate developer mode, see this article: https://docs.microsoft.com/en-us/windows/apps/get-started/enable-your-device-for-development\n",
      "  warnings.warn(message)\n"
     ]
    },
    {
     "data": {
      "text/plain": [
       "('C:\\\\Users\\\\super\\\\OneDrive\\\\桌面\\\\adcademic\\\\Capstone\\\\Proviewer Full\\\\python_stuff\\\\tokenizer_config.json',\n",
       " 'C:\\\\Users\\\\super\\\\OneDrive\\\\桌面\\\\adcademic\\\\Capstone\\\\Proviewer Full\\\\python_stuff\\\\special_tokens_map.json',\n",
       " 'C:\\\\Users\\\\super\\\\OneDrive\\\\桌面\\\\adcademic\\\\Capstone\\\\Proviewer Full\\\\python_stuff\\\\vocab.txt',\n",
       " 'C:\\\\Users\\\\super\\\\OneDrive\\\\桌面\\\\adcademic\\\\Capstone\\\\Proviewer Full\\\\python_stuff\\\\added_tokens.json',\n",
       " 'C:\\\\Users\\\\super\\\\OneDrive\\\\桌面\\\\adcademic\\\\Capstone\\\\Proviewer Full\\\\python_stuff\\\\tokenizer.json')"
      ]
     },
     "execution_count": 3,
     "metadata": {},
     "output_type": "execute_result"
    }
   ],
   "source": [
    "from transformers import AutoModelForSequenceClassification, AutoTokenizer\n",
    "\n",
    "model_name = \"thomas628/my_genuinityClassification_model\"  # Replace with the chosen model name\n",
    "model = AutoModelForSequenceClassification.from_pretrained(model_name)\n",
    "tokenizer = AutoTokenizer.from_pretrained(model_name)\n",
    "\n",
    "model.save_pretrained(r'C:\\Users\\super\\OneDrive\\桌面\\adcademic\\Capstone\\Proviewer Full\\python_stuff')\n",
    "tokenizer.save_pretrained(r'C:\\Users\\super\\OneDrive\\桌面\\adcademic\\Capstone\\Proviewer Full\\python_stuff')"
   ]
  },
  {
   "cell_type": "code",
   "execution_count": 15,
   "metadata": {},
   "outputs": [
    {
     "name": "stderr",
     "output_type": "stream",
     "text": [
      "Some weights of DistilBertForSequenceClassification were not initialized from the model checkpoint at C:\\Users\\super\\OneDrive\\桌面\\adcademic\\Capstone\\Proviewer Full\\python_stuff\\my_awesome_model and are newly initialized: ['classifier.bias', 'classifier.weight', 'pre_classifier.bias', 'pre_classifier.weight']\n",
      "You should probably TRAIN this model on a down-stream task to be able to use it for predictions and inference.\n"
     ]
    }
   ],
   "source": [
    "from transformers import AutoModelForSequenceClassification, AutoTokenizer\n",
    "\n",
    "model_directory = r'C:\\Users\\super\\OneDrive\\桌面\\adcademic\\Capstone\\Proviewer Full\\python_stuff\\my_awesome_model'\n",
    "model = AutoModelForSequenceClassification.from_pretrained(model_directory)\n",
    "tokenizer = AutoTokenizer.from_pretrained(model_directory)"
   ]
  },
  {
   "cell_type": "code",
   "execution_count": 25,
   "metadata": {},
   "outputs": [],
   "source": [
    "inputs = tokenizer(\"As per my analysis, the dress fits the standard criteria. The color matches the images shown. An acceptable choice for buyers.\", return_tensors=\"pt\")\n",
    "with torch.no_grad():\n",
    "    outputs = model(**inputs)\n",
    "    # Process the outputs as per your requirements\n"
   ]
  },
  {
   "cell_type": "code",
   "execution_count": 26,
   "metadata": {},
   "outputs": [
    {
     "data": {
      "text/plain": [
       "SequenceClassifierOutput(loss=None, logits=tensor([[-3.0693,  3.1088]]), hidden_states=None, attentions=None)"
      ]
     },
     "execution_count": 26,
     "metadata": {},
     "output_type": "execute_result"
    }
   ],
   "source": [
    "outputs"
   ]
  },
  {
   "cell_type": "code",
   "execution_count": null,
   "metadata": {},
   "outputs": [],
   "source": [
    "import torch.nn.functional as F"
   ]
  },
  {
   "cell_type": "code",
   "execution_count": 27,
   "metadata": {},
   "outputs": [
    {
     "name": "stdout",
     "output_type": "stream",
     "text": [
      "Label: OR, Score: 0.9979298114776611\n",
      "Label: CG, Score: 0.0020701587200164795\n"
     ]
    }
   ],
   "source": [
    "\n",
    "\n",
    "# Apply softmax to logits to get probabilities\n",
    "probabilities = F.softmax(outputs.logits, dim=-1)\n",
    "\n",
    "# Get the highest scoring labels and scores\n",
    "predicted_label_idx = torch.argmax(probabilities, dim=-1).item()\n",
    "predicted_label = model.config.id2label[predicted_label_idx]\n",
    "predicted_score = probabilities[0][predicted_label_idx].item()\n",
    "unpredicted_label_idx = torch.argmin(probabilities, dim=-1).item()\n",
    "unpredicted_label = model.config.id2label[unpredicted_label_idx]\n",
    "unpredicted_score = probabilities[0][unpredicted_label_idx].item()\n",
    "\n",
    "print(f\"Label: {predicted_label}, Score: {predicted_score}\")\n",
    "print(f\"Label: {unpredicted_label}, Score: {unpredicted_score}\")"
   ]
  },
  {
   "cell_type": "code",
   "execution_count": 13,
   "metadata": {},
   "outputs": [
    {
     "data": {
      "text/plain": [
       "1"
      ]
     },
     "execution_count": 13,
     "metadata": {},
     "output_type": "execute_result"
    }
   ],
   "source": [
    "predicted_label_idx"
   ]
  },
  {
   "cell_type": "code",
   "execution_count": 12,
   "metadata": {},
   "outputs": [
    {
     "data": {
      "text/plain": [
       "tensor([[0.3724, 0.6276]])"
      ]
     },
     "execution_count": 12,
     "metadata": {},
     "output_type": "execute_result"
    }
   ],
   "source": [
    "probabilities"
   ]
  },
  {
   "cell_type": "code",
   "execution_count": 19,
   "metadata": {},
   "outputs": [
    {
     "data": {
      "text/plain": [
       "('C:\\\\Users\\\\super\\\\OneDrive\\\\桌面\\\\adcademic\\\\Capstone\\\\Proviewer Full\\\\python_stuff\\\\my_awesome_model\\\\tokenizer_config.json',\n",
       " 'C:\\\\Users\\\\super\\\\OneDrive\\\\桌面\\\\adcademic\\\\Capstone\\\\Proviewer Full\\\\python_stuff\\\\my_awesome_model\\\\special_tokens_map.json',\n",
       " 'C:\\\\Users\\\\super\\\\OneDrive\\\\桌面\\\\adcademic\\\\Capstone\\\\Proviewer Full\\\\python_stuff\\\\my_awesome_model\\\\vocab.txt',\n",
       " 'C:\\\\Users\\\\super\\\\OneDrive\\\\桌面\\\\adcademic\\\\Capstone\\\\Proviewer Full\\\\python_stuff\\\\my_awesome_model\\\\added_tokens.json',\n",
       " 'C:\\\\Users\\\\super\\\\OneDrive\\\\桌面\\\\adcademic\\\\Capstone\\\\Proviewer Full\\\\python_stuff\\\\my_awesome_model\\\\tokenizer.json')"
      ]
     },
     "execution_count": 19,
     "metadata": {},
     "output_type": "execute_result"
    }
   ],
   "source": [
    "from transformers import AutoModelForSequenceClassification, AutoTokenizer\n",
    "\n",
    "model_name = \"thomas628/my_awesome_model\"  # Replace with the chosen model name\n",
    "model = AutoModelForSequenceClassification.from_pretrained(model_name)\n",
    "tokenizer = AutoTokenizer.from_pretrained(model_name)\n",
    "\n",
    "model.save_pretrained(r'C:\\Users\\super\\OneDrive\\桌面\\adcademic\\Capstone\\Proviewer Full\\python_stuff\\my_awesome_model')\n",
    "tokenizer.save_pretrained(r'C:\\Users\\super\\OneDrive\\桌面\\adcademic\\Capstone\\Proviewer Full\\python_stuff\\my_awesome_model')"
   ]
  },
  {
   "cell_type": "code",
   "execution_count": 20,
   "metadata": {},
   "outputs": [],
   "source": [
    "inputs = tokenizer(\"Your input text here\", return_tensors=\"pt\")\n",
    "with torch.no_grad():\n",
    "    outputs = model(**inputs)\n",
    "    # Process the outputs as per your requirements"
   ]
  },
  {
   "cell_type": "code",
   "execution_count": 21,
   "metadata": {},
   "outputs": [
    {
     "name": "stdout",
     "output_type": "stream",
     "text": [
      "Label: POSITIVE, Score: 0.508574366569519\n",
      "Label: NEGATIVE, Score: 0.4914255738258362\n"
     ]
    }
   ],
   "source": [
    "import torch.nn.functional as F\n",
    "\n",
    "# Apply softmax to logits to get probabilities\n",
    "probabilities = F.softmax(outputs.logits, dim=-1)\n",
    "\n",
    "# Get the highest scoring labels and scores\n",
    "predicted_label_idx = torch.argmax(probabilities, dim=-1).item()\n",
    "predicted_label = model.config.id2label[predicted_label_idx]\n",
    "predicted_score = probabilities[0][predicted_label_idx].item()\n",
    "unpredicted_label_idx = torch.argmin(probabilities, dim=-1).item()\n",
    "unpredicted_label = model.config.id2label[unpredicted_label_idx]\n",
    "unpredicted_score = probabilities[0][unpredicted_label_idx].item()\n",
    "\n",
    "print(f\"Label: {predicted_label}, Score: {predicted_score}\")\n",
    "print(f\"Label: {unpredicted_label}, Score: {unpredicted_score}\")"
   ]
  }
 ],
 "metadata": {
  "kernelspec": {
   "display_name": "Python 3",
   "language": "python",
   "name": "python3"
  },
  "language_info": {
   "codemirror_mode": {
    "name": "ipython",
    "version": 3
   },
   "file_extension": ".py",
   "mimetype": "text/x-python",
   "name": "python",
   "nbconvert_exporter": "python",
   "pygments_lexer": "ipython3",
   "version": "3.11.0"
  }
 },
 "nbformat": 4,
 "nbformat_minor": 2
}
